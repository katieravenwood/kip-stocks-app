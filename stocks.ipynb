{
 "cells": [
  {
   "cell_type": "markdown",
   "id": "0a6cb716",
   "metadata": {},
   "source": [
    "# Stock Predictor App"
   ]
  },
  {
   "cell_type": "markdown",
   "id": "4425325f",
   "metadata": {},
   "source": [
    "## Imports"
   ]
  },
  {
   "cell_type": "code",
   "execution_count": 4,
   "id": "3b905cb9",
   "metadata": {},
   "outputs": [],
   "source": [
    "import streamlit as st\n",
    "\n",
    "import pandas as pd\n",
    "import numpy as np\n",
    "import matplotlib.pyplot as plt\n",
    "\n",
    "import yfinance as yf # https://pypi.org/project/yfinance/\n",
    "from ta.volatility import BollingerBands\n",
    "from ta.trend import MACD\n",
    "from ta.momentum import RSIIndicator"
   ]
  },
  {
   "cell_type": "markdown",
   "id": "729544b2",
   "metadata": {},
   "source": [
    "## Dashboard Features"
   ]
  },
  {
   "cell_type": "code",
   "execution_count": null,
   "id": "0252f139",
   "metadata": {},
   "outputs": [],
   "source": [
    "# DASHBOARD #\n",
    "st.set_page_config(layout=\"wide\", initial_sidebar_state=\"expanded\")\n",
    "st.title('Stock Market Dashboard')"
   ]
  },
  {
   "cell_type": "markdown",
   "id": "5e511a2c",
   "metadata": {},
   "source": [
    "## Sidebar"
   ]
  },
  {
   "cell_type": "code",
   "execution_count": null,
   "id": "e0035589",
   "metadata": {},
   "outputs": [],
   "source": [
    "st.sidebar.header('Choose A Stock')\n",
    "stocklist = st.sidebar.selectbox('Select one symbol', ( 'DIS', 'UBER','QUASX','IAC', 'DXC', 'BABA', 'LFUS', 'SCHW', 'ABC', 'FAGAX', 'AGK', 'OGK', 'AMZN', 'PSA', 'BAC', 'CVS', 'SBUX', 'CCI', 'TROW', 'CVX', 'O', 'EPR'))\n",
    "import datetime\n",
    "today = datetime.date.today()\n",
    "before = today - datetime.timedelta(days=700)\n",
    "start_date = st.sidebar.date_input('Start date', before)\n",
    "end_date = st.sidebar.date_input('End date', today)\n",
    "if start_date < end_date:\n",
    "    st.sidebar.success('Start date: `%s`\\n\\nEnd date:`%s`' % (start_date, end_date))\n",
    "else:\n",
    "    st.sidebar.error('Error: End date must fall after start date.')"
   ]
  },
  {
   "cell_type": "markdown",
   "id": "35eab953",
   "metadata": {},
   "source": [
    "## Stock Data"
   ]
  },
  {
   "cell_type": "code",
   "execution_count": null,
   "id": "2f118bf1",
   "metadata": {},
   "outputs": [],
   "source": [
    "# Download data\n",
    "df = yf.download(stocklist,start= start_date,end= end_date, progress=False)\n",
    "\n",
    "# Bollinger Bands\n",
    "indicator_bb = BollingerBands(df['Close'])\n",
    "bb = df\n",
    "bb['bb_h'] = indicator_bb.bollinger_hband()\n",
    "bb['bb_l'] = indicator_bb.bollinger_lband()\n",
    "bb = bb[['Close','bb_h','bb_l']]\n",
    "\n",
    "# Moving Average Convergence Divergence\n",
    "macd = MACD(df['Close']).macd()\n",
    "\n",
    "# Resistence Strength Indicator\n",
    "rsi = RSIIndicator(df['Close']).rsi()"
   ]
  },
  {
   "cell_type": "markdown",
   "id": "2f1a3cc4",
   "metadata": {},
   "source": [
    "## Main Page"
   ]
  },
  {
   "cell_type": "code",
   "execution_count": null,
   "id": "d31626fe",
   "metadata": {},
   "outputs": [],
   "source": [
    "# Plot the prices and the bolinger bands\n",
    "st.write('Stock Bollinger Bands')\n",
    "st.line_chart(bb)\n",
    "\n",
    "progress_bar = st.progress(0)\n",
    "\n",
    "# Plot MACD\n",
    "st.write('Stock Moving Average Convergence Divergence (MACD)')\n",
    "st.area_chart(macd)\n",
    "\n",
    "# Plot RSI\n",
    "st.write('Stock RSI ')\n",
    "st.line_chart(rsi)\n",
    "\n",
    "# Data of recent days\n",
    "st.write('Recent data ')\n",
    "st.dataframe(df.tail(10))"
   ]
  },
  {
   "cell_type": "code",
   "execution_count": null,
   "id": "e3f3783e",
   "metadata": {},
   "outputs": [],
   "source": []
  },
  {
   "cell_type": "code",
   "execution_count": null,
   "id": "156136cb",
   "metadata": {},
   "outputs": [],
   "source": []
  },
  {
   "cell_type": "code",
   "execution_count": null,
   "id": "42925ea6",
   "metadata": {},
   "outputs": [],
   "source": []
  }
 ],
 "metadata": {
  "kernelspec": {
   "display_name": "Python 3.8.8 ('anaconda3')",
   "language": "python",
   "name": "python388jvsc74a57bd01e79bbc5c3141927cdef5fe718bd3de59d91ffd080f5e07035b97dfdb4a03a3d"
  },
  "language_info": {
   "codemirror_mode": {
    "name": "ipython",
    "version": 3
   },
   "file_extension": ".py",
   "mimetype": "text/x-python",
   "name": "python",
   "nbconvert_exporter": "python",
   "pygments_lexer": "ipython3",
   "version": "3.8.8"
  }
 },
 "nbformat": 4,
 "nbformat_minor": 5
}
